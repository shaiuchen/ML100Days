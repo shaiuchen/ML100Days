{
 "cells": [
  {
   "cell_type": "markdown",
   "metadata": {},
   "source": [
    "# 作業\n",
    "\n",
    "實作各種不一樣的方式來調整飽和 / 對比 / 明亮\n",
    "\n",
    "1. 改變 color space 來調整飽和度\n",
    "2. 實作直方圖均衡\n",
    "3. alpha/ beta 調整對比 / 明亮"
   ]
  },
  {
   "cell_type": "code",
   "execution_count": 1,
   "metadata": {},
   "outputs": [],
   "source": [
    "import cv2\n",
    "import numpy as np\n",
    "\n",
    "img_path = 'lena.png'\n",
    "\n",
    "# 以彩色圖片的方式載入\n",
    "img = cv2.imread(img_path, cv2.IMREAD_COLOR)"
   ]
  },
  {
   "cell_type": "markdown",
   "metadata": {},
   "source": [
    "## 改變飽和度\n",
    "\n",
    "- 轉換成 HSV color space, 改變 s channel 的值"
   ]
  },
  {
   "cell_type": "code",
   "execution_count": 2,
   "metadata": {},
   "outputs": [
    {
     "ename": "",
     "evalue": "",
     "output_type": "error",
     "traceback": [
      "\u001b[1;31mThe Kernel crashed while executing code in the current cell or a previous cell. \n",
      "\u001b[1;31mPlease review the code in the cell(s) to identify a possible cause of the failure. \n",
      "\u001b[1;31mClick <a href='https://aka.ms/vscodeJupyterKernelCrash'>here</a> for more info. \n",
      "\u001b[1;31mView Jupyter <a href='command:jupyter.viewOutput'>log</a> for further details."
     ]
    }
   ],
   "source": [
    "# 為了要改變飽和度，我們先把 color space 轉成 HSL 格式 (OpenCV 表示順序是 HLS)\n",
    "img_hls = cv2.cvtColor(img, cv2.COLOR_BGR2HLS)\n",
    "change_percentage = 0.2\n",
    "\n",
    "# 針對飽和度的值做改變，超過界線 0~1 的都會 bound\n",
    "# 在 HLS color space 減少飽和度\n",
    "img_hls_down = img_hls.astype('float32')\n",
    "img_hls_down[..., -1] = img_hls_down[..., -1]/255 - change_percentage\n",
    "img_hls_down[img_hls_down[..., -1] < 0] = 0\n",
    "img_hls_down[..., -1] = img_hls_down[..., -1]*255\n",
    "img_hls_down = img_hls_down.astype('uint8')\n",
    "\n",
    "# 在 HLS color space 增加飽和度\n",
    "img_hls_up = img_hls.astype('float32')\n",
    "img_hls_up[..., -1] = img_hls_up[..., -1]/255 + change_percentage\n",
    "img_hls_up[img_hls_up[..., -1] > 1] = 1\n",
    "img_hls_up[..., -1] = img_hls_up[..., -1]*255\n",
    "img_hls_up = img_hls_up.astype('uint8')\n",
    "\n",
    "# 轉回BGR\n",
    "img_hls_down = cv2.cvtColor(img_hls_down, cv2.COLOR_HLS2BGR)\n",
    "img_hls_up = cv2.cvtColor(img_hls_up, cv2.COLOR_HLS2BGR)\n",
    "\n",
    "# 組合圖片 + 顯示圖片\n",
    "img_hls_change = np.hstack((img, img_hls_down, img_hls_up))\n",
    "while True:\n",
    "    cv2.imshow('change saturation', img_hls_change)\n",
    "    \n",
    "    k = cv2.waitKey(0)\n",
    "    if k == 27:\n",
    "        cv2.destroyAllWindows()\n",
    "        \n",
    "        break"
   ]
  },
  {
   "cell_type": "markdown",
   "metadata": {},
   "source": [
    "## 直方圖均衡\n",
    "\n",
    "1. case 1: 把彩圖拆開對每個 channel 個別做直方圖均衡再組合起來\n",
    "2. case 2: 轉換 color space 到 HSV 之後對其中一個 channel 做直方圖均衡"
   ]
  },
  {
   "cell_type": "code",
   "execution_count": 5,
   "metadata": {},
   "outputs": [],
   "source": [
    "import cv2\n",
    "import numpy as np\n",
    "import matplotlib.pyplot as plt\n",
    "\n",
    "# case 1\n",
    "# 每個 channel 個別做直方圖均衡\n",
    "image = cv2.imread(\"lena.png\")\n",
    "image_rgb = cv2.cvtColor(image, cv2.COLOR_BGR2RGB)\n",
    "\n",
    "image_r, image_g, image_b = cv2.split(image_rgb)\n",
    "image_r_equalized = cv2.equalizeHist(image_r)\n",
    "image_g_equalized = cv2.equalizeHist(image_g)\n",
    "image_b_equalized = cv2.equalizeHist(image_b)\n",
    "image_rgb_equalized = cv2.merge((image_r_equalized, image_g_equalized, image_b_equalized))\n",
    "# 組合經過直方圖均衡的每個 channel\n",
    "\n",
    "# case 2 - 轉換 color space 後只對其中一個 channel 做直方圖均衡\n",
    "image_hsv = cv2.cvtColor(image_rgb, cv2.COLOR_RGB2HSV)\n",
    "image_hsv[:,:,2] = cv2.equalizeHist(image_hsv[:,:,2])\n",
    "image_hsv_equalized = cv2.cvtColor(image_hsv, cv2.COLOR_HSV2RGB)\n",
    "\n",
    "# 組合圖片 + 顯示圖片\n",
    "image_bgr_equalHist = np.hstack((image_rgb, image_rgb_equalized, image_hsv_equalized))\n",
    "while True:\n",
    "    # 比較 (原圖, BGR color space 對每個 channel 做直方圖均衡, HSV color space 對明度做直方圖均衡)\n",
    "    cv2.imshow('bgr equal histogram', image_bgr_equalHist)\n",
    "    k = cv2.waitKey(0)\n",
    "    if k == 27:\n",
    "        cv2.destroyAllWindows()\n",
    "        cv2.waitKey(1)\n",
    "        break"
   ]
  },
  {
   "cell_type": "markdown",
   "metadata": {},
   "source": [
    "## 調整對比 / 明亮"
   ]
  },
  {
   "cell_type": "code",
   "execution_count": 1,
   "metadata": {},
   "outputs": [
    {
     "ename": "",
     "evalue": "",
     "output_type": "error",
     "traceback": [
      "\u001b[1;31mThe Kernel crashed while executing code in the current cell or a previous cell. \n",
      "\u001b[1;31mPlease review the code in the cell(s) to identify a possible cause of the failure. \n",
      "\u001b[1;31mClick <a href='https://aka.ms/vscodeJupyterKernelCrash'>here</a> for more info. \n",
      "\u001b[1;31mView Jupyter <a href='command:jupyter.viewOutput'>log</a> for further details."
     ]
    }
   ],
   "source": [
    "# alpha: 控制對比度 (1.0~3.0)\n",
    "# beta: 控制明亮度 (0~255)\n",
    "import cv2\n",
    "import numpy as np\n",
    "import matplotlib.pyplot as plt\n",
    "\n",
    "img = cv2.imread(\"lena.png\")\n",
    "\n",
    "add_contrast = cv2.convertScaleAbs(img, alpha=2.0, beta=0)\n",
    "add_lighness = cv2.convertScaleAbs(img, alpha=1.0, beta=50)\n",
    "\n",
    "# 組合圖片 + 顯示圖片\n",
    "img_contrast_light = np.hstack((img, add_contrast, add_lighness))\n",
    "while True:\n",
    "    # 比較不同程度的對比 / 明亮\n",
    "    cv2.imshow('adjust contrast and brighness', img_contrast_light)\n",
    "    k = cv2.waitKey(0)\n",
    "    if k == 27:\n",
    "        cv2.destroyAllWindows()\n",
    "        break"
   ]
  }
 ],
 "metadata": {
  "kernelspec": {
   "display_name": "Python 3",
   "language": "python",
   "name": "python3"
  },
  "language_info": {
   "codemirror_mode": {
    "name": "ipython",
    "version": 3
   },
   "file_extension": ".py",
   "mimetype": "text/x-python",
   "name": "python",
   "nbconvert_exporter": "python",
   "pygments_lexer": "ipython3",
   "version": "3.8.18"
  }
 },
 "nbformat": 4,
 "nbformat_minor": 2
}
