{
 "cells": [
  {
   "cell_type": "markdown",
   "metadata": {},
   "source": [
    "# 作業"
   ]
  },
  {
   "cell_type": "markdown",
   "metadata": {},
   "source": [
    "### 嘗試用 keras 的 DepthwiseConv2D 等 layers 實做 Separable Convolution.\n",
    "   - depthwise's filter shape 爲 (3,3), padding = same\n",
    "   - pointwise's filters size 爲 128\n",
    "   - 不需要給 alpha, depth multiplier 參數"
   ]
  },
  {
   "cell_type": "markdown",
   "metadata": {},
   "source": [
    "##### 載入套件"
   ]
  },
  {
   "cell_type": "code",
   "execution_count": 2,
   "metadata": {
    "collapsed": false
   },
   "outputs": [],
   "source": [
    "from keras.models import Model #Input\n",
    "from keras.layers import DepthwiseConv2D, Conv2D, BatchNormalization, ReLU"
   ]
  },
  {
   "cell_type": "markdown",
   "metadata": {},
   "source": [
    "##### 定義 Separable Convolution 函數 (請在此實做)"
   ]
  },
  {
   "cell_type": "code",
   "execution_count": 15,
   "metadata": {
    "collapsed": false
   },
   "outputs": [
    {
     "name": "stdout",
     "output_type": "stream",
     "text": [
      "Model: \"model_6\"\n",
      "_________________________________________________________________\n",
      " Layer (type)                Output Shape              Param #   \n",
      "=================================================================\n",
      " input_2 (InputLayer)        [(None, 64, 64, 3)]       0         \n",
      "                                                                 \n",
      " depthwise_conv2d_2 (Depthw  (None, 64, 64, 3)         27        \n",
      " iseConv2D)                                                      \n",
      "                                                                 \n",
      " batch_normalization_1 (Bat  (None, 64, 64, 3)         12        \n",
      " chNormalization)                                                \n",
      "                                                                 \n",
      " re_lu_1 (ReLU)              (None, 64, 64, 3)         0         \n",
      "                                                                 \n",
      " conv2d_1 (Conv2D)           (None, 64, 64, 128)       384       \n",
      "                                                                 \n",
      " batch_normalization_2 (Bat  (None, 64, 64, 128)       512       \n",
      " chNormalization)                                                \n",
      "                                                                 \n",
      " re_lu_2 (ReLU)              (None, 64, 64, 128)       0         \n",
      "                                                                 \n",
      "=================================================================\n",
      "Total params: 935 (3.65 KB)\n",
      "Trainable params: 673 (2.63 KB)\n",
      "Non-trainable params: 262 (1.02 KB)\n",
      "_________________________________________________________________\n"
     ]
    }
   ],
   "source": [
    "import tensorflow as tf\n",
    "from tensorflow.keras.layers import Input, DepthwiseConv2D, Conv2D, BatchNormalization, ReLU\n",
    "from tensorflow.keras.models import Model\n",
    "\n",
    "def SeparableConv():\n",
    "    input_tensor = Input(shape=(64, 64, 3), name='input_2')\n",
    "\n",
    "    # Depthwise convolution\n",
    "    depthwise_conv = DepthwiseConv2D(kernel_size=(3, 3), padding='same', use_bias=False, name='depthwise_conv2d_2')(input_tensor)\n",
    "\n",
    "    # Batch Normalization\n",
    "    bn1 = BatchNormalization(name='batch_normalization_1')(depthwise_conv)\n",
    "\n",
    "    # ReLU Activation\n",
    "    relu1 = ReLU(name='re_lu_1')(bn1)\n",
    "\n",
    "    # Pointwise convolution (1x1 convolution)\n",
    "    pointwise_conv = Conv2D(filters=128, kernel_size=(1, 1), padding='same', use_bias=False, name='conv2d_1')(relu1)\n",
    "\n",
    "    # Batch Normalization\n",
    "    bn2 = BatchNormalization(name='batch_normalization_2')(pointwise_conv)\n",
    "\n",
    "    # ReLU Activation\n",
    "    relu2 = ReLU(name='re_lu_2')(bn2)\n",
    "\n",
    "    # 定義模型\n",
    "    model = Model(inputs=input_tensor, outputs=relu2)\n",
    "\n",
    "    return model\n",
    "\n",
    "# 建立模型\n",
    "model = SeparableConv()\n",
    "\n",
    "# 輸出模型架構\n",
    "model.summary()\n"
   ]
  }
 ],
 "metadata": {
  "kernelspec": {
   "display_name": "Python 3",
   "language": "python",
   "name": "python3"
  },
  "language_info": {
   "codemirror_mode": {
    "name": "ipython",
    "version": 3
   },
   "file_extension": ".py",
   "mimetype": "text/x-python",
   "name": "python",
   "nbconvert_exporter": "python",
   "pygments_lexer": "ipython3",
   "version": "3.8.18"
  }
 },
 "nbformat": 4,
 "nbformat_minor": 0
}
