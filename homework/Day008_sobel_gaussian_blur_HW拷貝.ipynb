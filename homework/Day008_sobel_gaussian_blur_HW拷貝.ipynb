{
 "cells": [
  {
   "cell_type": "markdown",
   "metadata": {},
   "source": [
    "# 作業\n",
    "\n",
    "實作模糊與邊緣檢測\n",
    "\n",
    "- 透過 Gaussian Filter 實作模糊操作\n",
    "- 透過 Sobel Filter 實作邊緣檢測"
   ]
  },
  {
   "cell_type": "code",
   "execution_count": 1,
   "metadata": {},
   "outputs": [],
   "source": [
    "import cv2\n",
    "import numpy as np\n",
    "\n",
    "img = cv2.imread('lena.png')"
   ]
  },
  {
   "cell_type": "markdown",
   "metadata": {},
   "source": [
    "## 邊緣檢測"
   ]
  },
  {
   "cell_type": "markdown",
   "metadata": {},
   "source": [
    "### 比較 Sobel 如果在 uint8 的情況下做會 overflow 的狀況"
   ]
  },
  {
   "cell_type": "code",
   "execution_count": 2,
   "metadata": {},
   "outputs": [],
   "source": [
    "import cv2\n",
    "import numpy as np\n",
    "\n",
    "# 读取图像\n",
    "img = cv2.imread('lena.png')\n",
    "\n",
    "# 转为灰阶图片\n",
    "img_grey = cv2.cvtColor(img, cv2.COLOR_BGR2GRAY)\n",
    "\n",
    "# 对 x 方向以包含负数的数据格式 (cv2.CV_16S) 进行 Sobel 边缘检测\n",
    "img_sobel_x = cv2.Sobel(img_grey, cv2.CV_16S, 1, 0, ksize=3)\n",
    "\n",
    "# 对 x 方向依照比例缩放到所有数值都是非负整\n",
    "img_sobel_x_abs = cv2.convertScaleAbs(img_sobel_x)\n",
    "\n",
    "# 对 x 方向直接以非负整数的数据格式 (uint8) 进行 Sobel 边缘检测\n",
    "img_sobel_x_uint8 = cv2.Sobel(img_grey, cv2.CV_8U, 1, 0, ksize=3)\n",
    "\n",
    "# 组合 + 显示图片\n",
    "img_show = np.hstack((img_grey, img_sobel_x_abs, img_sobel_x_uint8))\n",
    "\n",
    "while True:\n",
    "    # 比较 Sobel 边缘检测的过程中针对负数操作的不同产生的差异\n",
    "    cv2.imshow('Edge Detection', img_show)\n",
    "    k = cv2.waitKey(0)\n",
    "    if k == 27:  \n",
    "        cv2.destroyAllWindows()\n",
    "        cv2.waitKey(1)\n",
    "        break\n"
   ]
  },
  {
   "cell_type": "markdown",
   "metadata": {},
   "source": [
    "### 比較一次與兩次計算偏微分的結果"
   ]
  },
  {
   "cell_type": "code",
   "execution_count": 7,
   "metadata": {},
   "outputs": [],
   "source": [
    "import cv2\n",
    "import numpy as np\n",
    "\n",
    "# 读取图像\n",
    "img = cv2.imread('lena.png')\n",
    "\n",
    "# 转为灰阶图片\n",
    "img_grey = cv2.cvtColor(img, cv2.COLOR_BGR2GRAY)\n",
    "\n",
    "# 求一次导数取得边缘检测结果\n",
    "img_sobel_x = cv2.Sobel(img_grey, cv2.CV_16S, 1, 0, ksize=3)\n",
    "img_sobel_x_abs = cv2.convertScaleAbs(img_sobel_x)\n",
    "\n",
    "# 求二次导数取得边缘检测结果\n",
    "img_sobel_xx = cv2.Sobel(img_grey, cv2.CV_16S, 2, 0, ksize=3)\n",
    "img_sobel_xx_abs = cv2.convertScaleAbs(img_sobel_xx)\n",
    "\n",
    "# 组合 + 显示图片\n",
    "img_show = np.hstack((img_grey, img_sobel_x_abs, img_sobel_xx_abs))\n",
    "\n",
    "while True:\n",
    "    cv2.imshow('Edge Detection', img_show)\n",
    "    k = cv2.waitKey(0)\n",
    "    if k == 27:  # 按下 'ESC' 键退出\n",
    "        cv2.destroyAllWindows()\n",
    "        cv2.waitKey(1)\n",
    "        break\n"
   ]
  }
 ],
 "metadata": {
  "kernelspec": {
   "display_name": "Python 3",
   "language": "python",
   "name": "python3"
  },
  "language_info": {
   "codemirror_mode": {
    "name": "ipython",
    "version": 3
   },
   "file_extension": ".py",
   "mimetype": "text/x-python",
   "name": "python",
   "nbconvert_exporter": "python",
   "pygments_lexer": "ipython3",
   "version": "3.8.18"
  }
 },
 "nbformat": 4,
 "nbformat_minor": 2
}
