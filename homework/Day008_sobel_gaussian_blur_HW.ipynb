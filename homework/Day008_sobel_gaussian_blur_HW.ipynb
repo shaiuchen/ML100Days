{
 "cells": [
  {
   "cell_type": "markdown",
   "metadata": {},
   "source": [
    "# 作業\n",
    "\n",
    "實作模糊與邊緣檢測\n",
    "\n",
    "- 透過 Gaussian Filter 實作模糊操作\n",
    "- 透過 Sobel Filter 實作邊緣檢測"
   ]
  },
  {
   "cell_type": "code",
   "execution_count": 7,
   "metadata": {},
   "outputs": [],
   "source": [
    "import cv2\n",
    "import numpy as np\n",
    "\n",
    "img = cv2.imread('lena.png')"
   ]
  },
  {
   "cell_type": "code",
   "execution_count": 3,
   "metadata": {},
   "outputs": [],
   "source": [
    "img_blur = img.copy()\n",
    "\n",
    "# 重複多次 Gaussian 模糊的操作來加深模糊的程度\n",
    "img_blur = cv2.GaussianBlur(img_blur, (5, 5), 0)\n",
    "img_blur = cv2.GaussianBlur(img_blur, (5, 5), 0)\n",
    "img_blur = cv2.GaussianBlur(img_blur, (5, 5), 0)\n",
    "\n",
    "#　組合 + 顯示圖片\n",
    "img_show = np.hstack((img, img_blur))\n",
    "while True:\n",
    "    cv2.imshow('Gaussian Blur', img_show)\n",
    "    k = cv2.waitKey(0)\n",
    "    if k == 27:\n",
    "        cv2.destroyAllWindows()\n",
    "        cv2.waitKey(1)\n",
    "        break"
   ]
  },
  {
   "cell_type": "markdown",
   "metadata": {},
   "source": [
    "## 邊緣檢測"
   ]
  },
  {
   "cell_type": "markdown",
   "metadata": {},
   "source": [
    "### 比較 Sobel 如果在 uint8 的情況下做會 overflow 的狀況"
   ]
  },
  {
   "cell_type": "code",
   "execution_count": 4,
   "metadata": {},
   "outputs": [],
   "source": [
    "# 轉為灰階圖片\n",
    "img_gray = cv2.cvtColor(img, cv2.COLOR_BGR2GRAY)\n",
    "\n",
    "# 對 x 方向做 Sobel 邊緣檢測\n",
    "img_sobel_x = cv2.Sobel(img_gray, cv2.CV_16S, dx=1, dy=0, ksize=3) # 對 x 方向以包含負數的資料格式 (cv2.CV_16S) 進行 Sobel 邊緣檢測\n",
    "img_sobel_x = cv2.convertScaleAbs(img_sobel_x) # 對 x 方向依照比例縮放到所有數值都是非負整數\n",
    "# 對 y 方向做 Sobel 邊緣檢測\n",
    "img_sobel_y = cv2.Sobel(img_gray, cv2.CV_16S, dx=0, dy=1, ksize=3)\n",
    "img_sobel_y = cv2.convertScaleAbs(img_sobel_y)\n",
    "# x, y 方向的邊緣檢測後的圖各以一半的全重進行合成\n",
    "img_16s_combine = cv2.addWeighted(img_sobel_x, 0.5, img_sobel_y, 0.5, 0)\n",
    "\n",
    "# 對 x 方向直接以非負整數的資料格式 (uint8) 進行 Sobel 邊緣檢測\n",
    "img_sobel_x_uint8 = cv2.Sobel(img_gray, cv2.CV_8U, dx=1, dy=0, ksize=5)\n",
    "img_sobel_y_uint8 = cv2.Sobel(img_gray, cv2.CV_8U, dx=0, dy=1, ksize=5)\n",
    "# x, y 方向的邊緣檢測後的圖各以一半的全重進行合成\n",
    "img_8u_combine = cv2.addWeighted(img_sobel_x_uint8, 0.5, img_sobel_y_uint8, 0.5, 0)\n",
    "\n",
    "#　組合 + 顯示圖片\n",
    "img_show = np.hstack((img_gray, img_16s_combine, img_8u_combine))\n",
    "while True:\n",
    "    # 比較 Sobel 邊緣檢測的過程中針對負數操作的不同產生的差異\n",
    "    cv2.imshow('Edge Detection', img_show)\n",
    "    k = cv2.waitKey(0)\n",
    "    if k == 27:\n",
    "        cv2.destroyAllWindows()\n",
    "        cv2.waitKey(1)\n",
    "        break"
   ]
  },
  {
   "cell_type": "markdown",
   "metadata": {},
   "source": [
    "### 比較一次與兩次計算偏微分的結果"
   ]
  },
  {
   "cell_type": "code",
   "execution_count": 12,
   "metadata": {},
   "outputs": [
    {
     "data": {
      "text/plain": [
       "-1"
      ]
     },
     "execution_count": 12,
     "metadata": {},
     "output_type": "execute_result"
    }
   ],
   "source": [
    "img_gray = cv2.cvtColor(img, cv2.COLOR_BGR2GRAY)\n",
    "\n",
    "## 求一次導數取得邊緣檢測結果:\n",
    "# 對 x 方向做 Sobel 邊緣檢測\n",
    "img_sobel_x = cv2.Sobel(img_gray, cv2.CV_16S, dx=1, dy=0, ksize=3) # 對 x 方向以包含負數的資料格式 (cv2.CV_16S) 進行 Sobel 邊緣檢測\n",
    "img_sobel_x = cv2.convertScaleAbs(img_sobel_x) # 對 x 方向依照比例縮放到所有數值都是非負整數\n",
    "# 對 y 方向做 Sobel 邊緣檢測\n",
    "img_sobel_y = cv2.Sobel(img_gray, cv2.CV_16S, dx=0, dy=1, ksize=3)\n",
    "img_sobel_y = cv2.convertScaleAbs(img_sobel_y)\n",
    "# x, y 方向的邊緣檢測後的圖各以一半的全重進行合成\n",
    "img_16s_combine = cv2.addWeighted(img_sobel_x, 0.5, img_sobel_y, 0.5, 0)\n",
    "\n",
    "# 求二次導數取得邊緣檢測結果\n",
    "# 對 x 方向做 Sobel 邊緣檢測\n",
    "#Laplacian 運算子用於計算圖像的二次導數，它可以提取圖像中的輪廓和邊緣信息。這是一種常用的邊緣檢測方法。\n",
    "laplacian = cv2.Laplacian(img, cv2.CV_16S, ksize=3)\n",
    "laplacian = cv2.convertScaleAbs(laplacian)\n",
    "\n",
    "cv2.imshow('Original image', img_gray)\n",
    "cv2.imshow('1', img_16s_combine)\n",
    "cv2.imshow('2', laplacian)\n",
    "\n",
    "#5:顯示窗口\n",
    "cv2.waitKey(0)\n",
    "cv2.destroyAllWindows()\n",
    "cv2.waitKey(1)"
   ]
  }
 ],
 "metadata": {
  "kernelspec": {
   "display_name": "Python 3",
   "language": "python",
   "name": "python3"
  },
  "language_info": {
   "codemirror_mode": {
    "name": "ipython",
    "version": 3
   },
   "file_extension": ".py",
   "mimetype": "text/x-python",
   "name": "python",
   "nbconvert_exporter": "python",
   "pygments_lexer": "ipython3",
   "version": "3.8.18"
  }
 },
 "nbformat": 4,
 "nbformat_minor": 2
}
